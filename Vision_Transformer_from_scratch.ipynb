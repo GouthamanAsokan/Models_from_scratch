{
  "nbformat": 4,
  "nbformat_minor": 0,
  "metadata": {
    "colab": {
      "provenance": []
    },
    "kernelspec": {
      "name": "python3",
      "display_name": "Python 3"
    },
    "language_info": {
      "name": "python"
    },
    "accelerator": "GPU",
    "gpuClass": "standard"
  },
  "cells": [
    {
      "cell_type": "code",
      "execution_count": 1,
      "metadata": {
        "colab": {
          "base_uri": "https://localhost:8080/"
        },
        "id": "MKryvYdtiFdU",
        "outputId": "8f5ac886-a7ce-4841-ae06-72e0630cb922"
      },
      "outputs": [
        {
          "output_type": "stream",
          "name": "stdout",
          "text": [
            "Looking in indexes: https://pypi.org/simple, https://us-python.pkg.dev/colab-wheels/public/simple/\n",
            "Collecting tensorflow-addons\n",
            "  Downloading tensorflow_addons-0.19.0-cp38-cp38-manylinux_2_17_x86_64.manylinux2014_x86_64.whl (1.1 MB)\n",
            "\u001b[2K     \u001b[90m━━━━━━━━━━━━━━━━━━━━━━━━━━━━━━━━━━━━━━━━\u001b[0m \u001b[32m1.1/1.1 MB\u001b[0m \u001b[31m17.6 MB/s\u001b[0m eta \u001b[36m0:00:00\u001b[0m\n",
            "\u001b[?25hRequirement already satisfied: typeguard>=2.7 in /usr/local/lib/python3.8/dist-packages (from tensorflow-addons) (2.7.1)\n",
            "Requirement already satisfied: packaging in /usr/local/lib/python3.8/dist-packages (from tensorflow-addons) (21.3)\n",
            "Requirement already satisfied: pyparsing!=3.0.5,>=2.0.2 in /usr/local/lib/python3.8/dist-packages (from packaging->tensorflow-addons) (3.0.9)\n",
            "Installing collected packages: tensorflow-addons\n",
            "Successfully installed tensorflow-addons-0.19.0\n"
          ]
        }
      ],
      "source": [
        "!pip install -U tensorflow-addons"
      ]
    },
    {
      "cell_type": "code",
      "source": [
        "import numpy as np\n",
        "import tensorflow as tf\n",
        "from tensorflow import keras\n",
        "from tensorflow.keras import layers\n",
        "import tensorflow_addons as tfa"
      ],
      "metadata": {
        "id": "5ky247JXiLAj"
      },
      "execution_count": 2,
      "outputs": []
    },
    {
      "cell_type": "code",
      "source": [
        "num_classes = 100\n",
        "input_shape = (32, 32, 3)\n",
        "\n",
        "(x_train, y_train), (x_test, y_test) = keras.datasets.cifar100.load_data()\n",
        "\n",
        "print(f\"x_train shape: {x_train.shape} - y_train shape: {y_train.shape}\")\n",
        "print(f\"x_test shape: {x_test.shape} - y_test shape: {y_test.shape}\")"
      ],
      "metadata": {
        "colab": {
          "base_uri": "https://localhost:8080/"
        },
        "id": "B6wGtMWsiOPk",
        "outputId": "e2c06ad0-3181-4023-a3e6-a5be7cefd65c"
      },
      "execution_count": 3,
      "outputs": [
        {
          "output_type": "stream",
          "name": "stdout",
          "text": [
            "Downloading data from https://www.cs.toronto.edu/~kriz/cifar-100-python.tar.gz\n",
            "169001437/169001437 [==============================] - 14s 0us/step\n",
            "x_train shape: (50000, 32, 32, 3) - y_train shape: (50000, 1)\n",
            "x_test shape: (10000, 32, 32, 3) - y_test shape: (10000, 1)\n"
          ]
        }
      ]
    },
    {
      "cell_type": "code",
      "source": [
        "#configuring the hyperparameters\n",
        "learning_rate = 0.001\n",
        "weight_decay = 0.0001\n",
        "batch_size = 256\n",
        "num_epochs = 100\n",
        "image_size = 72  # We'll resize input images to this size\n",
        "patch_size = 6  # Size of the patches to be extract from the input images\n",
        "num_patches = (image_size // patch_size) ** 2\n",
        "projection_dim = 64\n",
        "num_heads = 4\n",
        "transformer_units = [\n",
        "    projection_dim * 2,\n",
        "    projection_dim,\n",
        "]  # Size of the transformer layers\n",
        "transformer_layers = 8\n",
        "mlp_head_units = [2048, 1024]  # Size of the dense layers of the final classifier"
      ],
      "metadata": {
        "id": "1GREdYW2iVGc"
      },
      "execution_count": 4,
      "outputs": []
    },
    {
      "cell_type": "code",
      "source": [
        "#data augmentation\n",
        "data_augmentation = keras.Sequential(\n",
        "    [\n",
        "        layers.Normalization(),\n",
        "        layers.Resizing(image_size, image_size),\n",
        "        layers.RandomFlip(\"horizontal\"),\n",
        "        layers.RandomRotation(factor=0.02),\n",
        "        layers.RandomZoom(\n",
        "            height_factor=0.2, width_factor=0.2\n",
        "        ),\n",
        "    ],\n",
        "    name=\"data_augmentation\",\n",
        ")\n",
        "# Compute the mean and the variance of the training data for normalization.\n",
        "data_augmentation.layers[0].adapt(x_train)"
      ],
      "metadata": {
        "id": "9MpdF9A_is1K"
      },
      "execution_count": 5,
      "outputs": []
    },
    {
      "cell_type": "code",
      "source": [
        "def mlp(x, hidden_units, dropout_rate):\n",
        "    for units in hidden_units:\n",
        "        x = layers.Dense(units, activation=tf.nn.gelu)(x)\n",
        "        x = layers.Dropout(dropout_rate)(x)\n",
        "    return x"
      ],
      "metadata": {
        "id": "BWpoBXDvjC8G"
      },
      "execution_count": 6,
      "outputs": []
    },
    {
      "cell_type": "code",
      "source": [
        "class Patches(layers.Layer):\n",
        "    def __init__(self, patch_size):\n",
        "        super().__init__()\n",
        "        self.patch_size = patch_size\n",
        "\n",
        "    def call(self, images):\n",
        "        batch_size = tf.shape(images)[0]\n",
        "        patches = tf.image.extract_patches(\n",
        "            images=images,\n",
        "            sizes=[1, self.patch_size, self.patch_size, 1],\n",
        "            strides=[1, self.patch_size, self.patch_size, 1],\n",
        "            rates=[1, 1, 1, 1],\n",
        "            padding=\"VALID\",\n",
        "        )\n",
        "        patch_dims = patches.shape[-1]\n",
        "        patches = tf.reshape(patches, [batch_size, -1, patch_dims])\n",
        "        return patches"
      ],
      "metadata": {
        "id": "lvWiUCOqjH3V"
      },
      "execution_count": 7,
      "outputs": []
    },
    {
      "cell_type": "code",
      "source": [
        "import matplotlib.pyplot as plt\n",
        "\n",
        "plt.figure(figsize=(4, 4))\n",
        "image = x_train[np.random.choice(range(x_train.shape[0]))]\n",
        "plt.imshow(image.astype(\"uint8\"))\n",
        "plt.axis(\"off\")\n",
        "\n",
        "resized_image = tf.image.resize(\n",
        "    tf.convert_to_tensor([image]), size=(image_size, image_size)\n",
        ")\n",
        "patches = Patches(patch_size)(resized_image)\n",
        "print(f\"Image size: {image_size} X {image_size}\")\n",
        "print(f\"Patch size: {patch_size} X {patch_size}\")\n",
        "print(f\"Patches per image: {patches.shape[1]}\")\n",
        "print(f\"Elements per patch: {patches.shape[-1]}\")\n",
        "\n",
        "n = int(np.sqrt(patches.shape[1]))\n",
        "plt.figure(figsize=(4, 4))\n",
        "for i, patch in enumerate(patches[0]):\n",
        "    ax = plt.subplot(n, n, i + 1)\n",
        "    patch_img = tf.reshape(patch, (patch_size, patch_size, 3))\n",
        "    plt.imshow(patch_img.numpy().astype(\"uint8\"))\n",
        "    plt.axis(\"off\")"
      ],
      "metadata": {
        "colab": {
          "base_uri": "https://localhost:8080/",
          "height": 548
        },
        "id": "7bIiZ06ckPND",
        "outputId": "bb6c2662-5a9d-4a37-85a3-96bd6c214f48"
      },
      "execution_count": 8,
      "outputs": [
        {
          "output_type": "stream",
          "name": "stdout",
          "text": [
            "Image size: 72 X 72\n",
            "Patch size: 6 X 6\n",
            "Patches per image: 144\n",
            "Elements per patch: 108\n"
          ]
        },
        {
          "output_type": "display_data",
          "data": {
            "text/plain": [
              "<Figure size 288x288 with 1 Axes>"
            ],
            "image/png": "[encoded data removed]"
          },
          "metadata": {
            "needs_background": "light"
          }
        },
        {
          "output_type": "display_data",
          "data": {
            "text/plain": [
              "<Figure size 288x288 with 144 Axes>"
            ],
            "image/png": "[encoded data removed]"
          },
          "metadata": {
            "needs_background": "light"
          }
        }
      ]
    },
    {
      "cell_type": "code",
      "source": [
        "class PatchEncoder(layers.Layer):\n",
        "    def __init__(self, num_patches, projection_dim):\n",
        "        super().__init__()\n",
        "        self.num_patches = num_patches\n",
        "        self.projection = layers.Dense(units=projection_dim)\n",
        "        self.position_embedding = layers.Embedding(\n",
        "            input_dim=num_patches, output_dim=projection_dim\n",
        "        )\n",
        "\n",
        "    def call(self, patch):\n",
        "        positions = tf.range(start=0, limit=self.num_patches, delta=1)\n",
        "        encoded = self.projection(patch) + self.position_embedding(positions)\n",
        "        return encoded"
      ],
      "metadata": {
        "id": "M9llOk9HkP81"
      },
      "execution_count": 9,
      "outputs": []
    },
    {
      "cell_type": "code",
      "source": [
        "def create_vit_classifier():\n",
        "    inputs = layers.Input(shape=input_shape)\n",
        "    # Augment data.\n",
        "    augmented = data_augmentation(inputs)\n",
        "    # Create patches.\n",
        "    patches = Patches(patch_size)(augmented)\n",
        "    # Encode patches.\n",
        "    encoded_patches = PatchEncoder(num_patches, projection_dim)(patches)\n",
        "\n",
        "    # Create multiple layers of the Transformer block.\n",
        "    for _ in range(transformer_layers):\n",
        "        # Layer normalization 1.\n",
        "        x1 = layers.LayerNormalization(epsilon=1e-6)(encoded_patches)\n",
        "        # Create a multi-head attention layer.\n",
        "        attention_output = layers.MultiHeadAttention(\n",
        "            num_heads=num_heads, key_dim=projection_dim, dropout=0.1\n",
        "        )(x1, x1)\n",
        "        # Skip connection 1.\n",
        "        x2 = layers.Add()([attention_output, encoded_patches])\n",
        "        # Layer normalization 2.\n",
        "        x3 = layers.LayerNormalization(epsilon=1e-6)(x2)\n",
        "        # MLP.\n",
        "        x3 = mlp(x3, hidden_units=transformer_units, dropout_rate=0.1)\n",
        "        # Skip connection 2.\n",
        "        encoded_patches = layers.Add()([x3, x2])\n",
        "\n",
        "    # Create a [batch_size, projection_dim] tensor.\n",
        "    representation = layers.LayerNormalization(epsilon=1e-6)(encoded_patches)\n",
        "    representation = layers.Flatten()(representation)\n",
        "    representation = layers.Dropout(0.5)(representation)\n",
        "    # Add MLP.\n",
        "    features = mlp(representation, hidden_units=mlp_head_units, dropout_rate=0.5)\n",
        "    # Classify outputs.\n",
        "    logits = layers.Dense(num_classes)(features)\n",
        "    # Create the Keras model.\n",
        "    model = keras.Model(inputs=inputs, outputs=logits)\n",
        "    return model\n"
      ],
      "metadata": {
        "id": "coCe3uRKksGc"
      },
      "execution_count": 10,
      "outputs": []
    },
    {
      "cell_type": "code",
      "source": [
        "#compile, train and evaluate the model\n",
        "def run_experiment(model):\n",
        "    optimizer = tfa.optimizers.AdamW(\n",
        "        learning_rate=learning_rate, weight_decay=weight_decay\n",
        "    )\n",
        "\n",
        "    model.compile(\n",
        "        optimizer=optimizer,\n",
        "        loss=keras.losses.SparseCategoricalCrossentropy(from_logits=True),\n",
        "        metrics=[\n",
        "            keras.metrics.SparseCategoricalAccuracy(name=\"accuracy\"),\n",
        "            keras.metrics.SparseTopKCategoricalAccuracy(5, name=\"top-5-accuracy\"),\n",
        "        ],\n",
        "    )\n",
        "\n",
        "    checkpoint_filepath = \"/tmp/checkpoint\"\n",
        "    checkpoint_callback = keras.callbacks.ModelCheckpoint(\n",
        "        checkpoint_filepath,\n",
        "        monitor=\"val_accuracy\",\n",
        "        save_best_only=True,\n",
        "        save_weights_only=True,\n",
        "    )\n",
        "\n",
        "    history = model.fit(\n",
        "        x=x_train,\n",
        "        y=y_train,\n",
        "        batch_size=batch_size,\n",
        "        epochs=num_epochs,\n",
        "        validation_split=0.1,\n",
        "        callbacks=[checkpoint_callback],\n",
        "    )\n",
        "\n",
        "    model.load_weights(checkpoint_filepath)\n",
        "    _, accuracy, top_5_accuracy = model.evaluate(x_test, y_test)\n",
        "    print(f\"Test accuracy: {round(accuracy * 100, 2)}%\")\n",
        "    print(f\"Test top 5 accuracy: {round(top_5_accuracy * 100, 2)}%\")\n",
        "\n",
        "    return history\n",
        "\n",
        "\n",
        "vit_classifier = create_vit_classifier()\n",
        "history = run_experiment(vit_classifier)"
      ],
      "metadata": {
        "colab": {
          "base_uri": "https://localhost:8080/",
          "height": 1000
        },
        "id": "qnsBSr1hmoSc",
        "outputId": "ca60b9ea-bcaa-461b-c7ee-d3a441e9825c"
      },
      "execution_count": 11,
      "outputs": [
        {
          "output_type": "stream",
          "name": "stdout",
          "text": [
            "Epoch 1/100\n",
            "176/176 [==============================] - 97s 486ms/step - loss: 4.4806 - accuracy: 0.0475 - top-5-accuracy: 0.1634 - val_loss: 3.8885 - val_accuracy: 0.1142 - val_top-5-accuracy: 0.3258\n",
            "Epoch 2/100\n",
            "176/176 [==============================] - 84s 476ms/step - loss: 3.9308 - accuracy: 0.0966 - top-5-accuracy: 0.2969 - val_loss: 3.5429 - val_accuracy: 0.1596 - val_top-5-accuracy: 0.4168\n",
            "Epoch 3/100\n",
            "176/176 [==============================] - 85s 481ms/step - loss: 3.6887 - accuracy: 0.1333 - top-5-accuracy: 0.3704 - val_loss: 3.3029 - val_accuracy: 0.2010 - val_top-5-accuracy: 0.4726\n",
            "Epoch 4/100\n",
            "176/176 [==============================] - 84s 476ms/step - loss: 3.5120 - accuracy: 0.1609 - top-5-accuracy: 0.4172 - val_loss: 3.1499 - val_accuracy: 0.2244 - val_top-5-accuracy: 0.5186\n",
            "Epoch 5/100\n",
            "176/176 [==============================] - 84s 476ms/step - loss: 3.3631 - accuracy: 0.1876 - top-5-accuracy: 0.4586 - val_loss: 3.0390 - val_accuracy: 0.2476 - val_top-5-accuracy: 0.5510\n",
            "Epoch 6/100\n",
            "176/176 [==============================] - 84s 475ms/step - loss: 3.2508 - accuracy: 0.2086 - top-5-accuracy: 0.4917 - val_loss: 2.9238 - val_accuracy: 0.2814 - val_top-5-accuracy: 0.5838\n",
            "Epoch 7/100\n",
            "176/176 [==============================] - 85s 481ms/step - loss: 3.1337 - accuracy: 0.2344 - top-5-accuracy: 0.5234 - val_loss: 2.8699 - val_accuracy: 0.2932 - val_top-5-accuracy: 0.6000\n",
            "Epoch 8/100\n",
            "176/176 [==============================] - 84s 476ms/step - loss: 3.0114 - accuracy: 0.2522 - top-5-accuracy: 0.5552 - val_loss: 2.7277 - val_accuracy: 0.3222 - val_top-5-accuracy: 0.6240\n",
            "Epoch 9/100\n",
            "176/176 [==============================] - 84s 476ms/step - loss: 2.8928 - accuracy: 0.2773 - top-5-accuracy: 0.5804 - val_loss: 2.6505 - val_accuracy: 0.3318 - val_top-5-accuracy: 0.6372\n",
            "Epoch 10/100\n",
            "176/176 [==============================] - 84s 480ms/step - loss: 2.7972 - accuracy: 0.2964 - top-5-accuracy: 0.6011 - val_loss: 2.5696 - val_accuracy: 0.3412 - val_top-5-accuracy: 0.6572\n",
            "Epoch 11/100\n",
            "176/176 [==============================] - 83s 474ms/step - loss: 2.7154 - accuracy: 0.3130 - top-5-accuracy: 0.6240 - val_loss: 2.4850 - val_accuracy: 0.3600 - val_top-5-accuracy: 0.6726\n",
            "Epoch 12/100\n",
            "176/176 [==============================] - 83s 474ms/step - loss: 2.6149 - accuracy: 0.3360 - top-5-accuracy: 0.6475 - val_loss: 2.4365 - val_accuracy: 0.3746 - val_top-5-accuracy: 0.6818\n",
            "Epoch 13/100\n",
            "176/176 [==============================] - 85s 481ms/step - loss: 2.5436 - accuracy: 0.3488 - top-5-accuracy: 0.6611 - val_loss: 2.4039 - val_accuracy: 0.3790 - val_top-5-accuracy: 0.6884\n",
            "Epoch 14/100\n",
            "176/176 [==============================] - 83s 474ms/step - loss: 2.4771 - accuracy: 0.3612 - top-5-accuracy: 0.6768 - val_loss: 2.3202 - val_accuracy: 0.4020 - val_top-5-accuracy: 0.7014\n",
            "Epoch 15/100\n",
            "176/176 [==============================] - 83s 473ms/step - loss: 2.4074 - accuracy: 0.3768 - top-5-accuracy: 0.6911 - val_loss: 2.2542 - val_accuracy: 0.4132 - val_top-5-accuracy: 0.7134\n",
            "Epoch 16/100\n",
            "176/176 [==============================] - 84s 478ms/step - loss: 2.3391 - accuracy: 0.3884 - top-5-accuracy: 0.7055 - val_loss: 2.2533 - val_accuracy: 0.4176 - val_top-5-accuracy: 0.7116\n",
            "Epoch 17/100\n",
            "176/176 [==============================] - 83s 474ms/step - loss: 2.2854 - accuracy: 0.4015 - top-5-accuracy: 0.7158 - val_loss: 2.2278 - val_accuracy: 0.4258 - val_top-5-accuracy: 0.7200\n",
            "Epoch 18/100\n",
            "176/176 [==============================] - 83s 473ms/step - loss: 2.2306 - accuracy: 0.4130 - top-5-accuracy: 0.7280 - val_loss: 2.1821 - val_accuracy: 0.4366 - val_top-5-accuracy: 0.7296\n",
            "Epoch 19/100\n",
            "176/176 [==============================] - 83s 470ms/step - loss: 2.1766 - accuracy: 0.4278 - top-5-accuracy: 0.7401 - val_loss: 2.1561 - val_accuracy: 0.4324 - val_top-5-accuracy: 0.7356\n",
            "Epoch 20/100\n",
            "176/176 [==============================] - 84s 475ms/step - loss: 2.1352 - accuracy: 0.4341 - top-5-accuracy: 0.7489 - val_loss: 2.1344 - val_accuracy: 0.4486 - val_top-5-accuracy: 0.7436\n",
            "Epoch 21/100\n",
            "176/176 [==============================] - 83s 469ms/step - loss: 2.0695 - accuracy: 0.4493 - top-5-accuracy: 0.7605 - val_loss: 2.1201 - val_accuracy: 0.4464 - val_top-5-accuracy: 0.7406\n",
            "Epoch 22/100\n",
            "176/176 [==============================] - 84s 476ms/step - loss: 2.0138 - accuracy: 0.4607 - top-5-accuracy: 0.7738 - val_loss: 2.0494 - val_accuracy: 0.4672 - val_top-5-accuracy: 0.7628\n",
            "Epoch 23/100\n",
            "176/176 [==============================] - 83s 472ms/step - loss: 1.9642 - accuracy: 0.4704 - top-5-accuracy: 0.7815 - val_loss: 2.0482 - val_accuracy: 0.4680 - val_top-5-accuracy: 0.7568\n",
            "Epoch 24/100\n",
            "176/176 [==============================] - 83s 470ms/step - loss: 1.9241 - accuracy: 0.4801 - top-5-accuracy: 0.7877 - val_loss: 2.0512 - val_accuracy: 0.4642 - val_top-5-accuracy: 0.7600\n",
            "Epoch 25/100\n",
            "176/176 [==============================] - 83s 474ms/step - loss: 1.8944 - accuracy: 0.4865 - top-5-accuracy: 0.7943 - val_loss: 1.9880 - val_accuracy: 0.4798 - val_top-5-accuracy: 0.7726\n",
            "Epoch 26/100\n",
            "176/176 [==============================] - 83s 469ms/step - loss: 1.8348 - accuracy: 0.5006 - top-5-accuracy: 0.8042 - val_loss: 2.0089 - val_accuracy: 0.4746 - val_top-5-accuracy: 0.7694\n",
            "Epoch 27/100\n",
            "176/176 [==============================] - 83s 473ms/step - loss: 1.8013 - accuracy: 0.5088 - top-5-accuracy: 0.8137 - val_loss: 1.9799 - val_accuracy: 0.4860 - val_top-5-accuracy: 0.7702\n",
            "Epoch 28/100\n",
            "176/176 [==============================] - 82s 468ms/step - loss: 1.7629 - accuracy: 0.5153 - top-5-accuracy: 0.8195 - val_loss: 1.9945 - val_accuracy: 0.4776 - val_top-5-accuracy: 0.7720\n",
            "Epoch 29/100\n",
            "176/176 [==============================] - 84s 476ms/step - loss: 1.7200 - accuracy: 0.5235 - top-5-accuracy: 0.8265 - val_loss: 1.9521 - val_accuracy: 0.4890 - val_top-5-accuracy: 0.7814\n",
            "Epoch 30/100\n",
            "176/176 [==============================] - 83s 474ms/step - loss: 1.6928 - accuracy: 0.5338 - top-5-accuracy: 0.8302 - val_loss: 1.9137 - val_accuracy: 0.4996 - val_top-5-accuracy: 0.7880\n",
            "Epoch 31/100\n",
            "176/176 [==============================] - 83s 471ms/step - loss: 1.6539 - accuracy: 0.5422 - top-5-accuracy: 0.8389 - val_loss: 1.9447 - val_accuracy: 0.4926 - val_top-5-accuracy: 0.7796\n",
            "Epoch 32/100\n",
            "176/176 [==============================] - 83s 471ms/step - loss: 1.6209 - accuracy: 0.5477 - top-5-accuracy: 0.8437 - val_loss: 1.9809 - val_accuracy: 0.4846 - val_top-5-accuracy: 0.7762\n",
            "Epoch 33/100\n",
            "176/176 [==============================] - 83s 474ms/step - loss: 1.5968 - accuracy: 0.5549 - top-5-accuracy: 0.8496 - val_loss: 1.9240 - val_accuracy: 0.4990 - val_top-5-accuracy: 0.7852\n",
            "Epoch 34/100\n",
            "176/176 [==============================] - 83s 469ms/step - loss: 1.5529 - accuracy: 0.5666 - top-5-accuracy: 0.8569 - val_loss: 1.9741 - val_accuracy: 0.4858 - val_top-5-accuracy: 0.7728\n",
            "Epoch 35/100\n",
            "176/176 [==============================] - 83s 474ms/step - loss: 1.5376 - accuracy: 0.5685 - top-5-accuracy: 0.8568 - val_loss: 1.9201 - val_accuracy: 0.5002 - val_top-5-accuracy: 0.7852\n",
            "Epoch 36/100\n",
            "176/176 [==============================] - 84s 477ms/step - loss: 1.5028 - accuracy: 0.5764 - top-5-accuracy: 0.8631 - val_loss: 1.9201 - val_accuracy: 0.5038 - val_top-5-accuracy: 0.7870\n",
            "Epoch 37/100\n",
            "176/176 [==============================] - 84s 475ms/step - loss: 1.4888 - accuracy: 0.5792 - top-5-accuracy: 0.8639 - val_loss: 1.8954 - val_accuracy: 0.5062 - val_top-5-accuracy: 0.7874\n",
            "Epoch 38/100\n",
            "176/176 [==============================] - 83s 473ms/step - loss: 1.4466 - accuracy: 0.5894 - top-5-accuracy: 0.8716 - val_loss: 1.9036 - val_accuracy: 0.5030 - val_top-5-accuracy: 0.7892\n",
            "Epoch 39/100\n",
            "176/176 [==============================] - 83s 470ms/step - loss: 1.4135 - accuracy: 0.5966 - top-5-accuracy: 0.8795 - val_loss: 1.8993 - val_accuracy: 0.5046 - val_top-5-accuracy: 0.7936\n",
            "Epoch 40/100\n",
            "176/176 [==============================] - 83s 472ms/step - loss: 1.3974 - accuracy: 0.6012 - top-5-accuracy: 0.8806 - val_loss: 1.9305 - val_accuracy: 0.5054 - val_top-5-accuracy: 0.7908\n",
            "Epoch 41/100\n",
            "176/176 [==============================] - 83s 473ms/step - loss: 1.3727 - accuracy: 0.6094 - top-5-accuracy: 0.8831 - val_loss: 1.8720 - val_accuracy: 0.5118 - val_top-5-accuracy: 0.7984\n",
            "Epoch 42/100\n",
            "176/176 [==============================] - 83s 474ms/step - loss: 1.3497 - accuracy: 0.6138 - top-5-accuracy: 0.8888 - val_loss: 1.9074 - val_accuracy: 0.5140 - val_top-5-accuracy: 0.7972\n",
            "Epoch 43/100\n",
            "176/176 [==============================] - 84s 476ms/step - loss: 1.3281 - accuracy: 0.6197 - top-5-accuracy: 0.8909 - val_loss: 1.8955 - val_accuracy: 0.5204 - val_top-5-accuracy: 0.7960\n",
            "Epoch 44/100\n",
            "176/176 [==============================] - 83s 473ms/step - loss: 1.3054 - accuracy: 0.6246 - top-5-accuracy: 0.8940 - val_loss: 1.8682 - val_accuracy: 0.5250 - val_top-5-accuracy: 0.8020\n",
            "Epoch 45/100\n",
            "176/176 [==============================] - 83s 471ms/step - loss: 1.2806 - accuracy: 0.6316 - top-5-accuracy: 0.8997 - val_loss: 1.9133 - val_accuracy: 0.5080 - val_top-5-accuracy: 0.7944\n",
            "Epoch 46/100\n",
            "176/176 [==============================] - 82s 467ms/step - loss: 1.2668 - accuracy: 0.6354 - top-5-accuracy: 0.9002 - val_loss: 1.9076 - val_accuracy: 0.5140 - val_top-5-accuracy: 0.7944\n",
            "Epoch 47/100\n",
            "176/176 [==============================] - 83s 471ms/step - loss: 1.2452 - accuracy: 0.6390 - top-5-accuracy: 0.9043 - val_loss: 1.9037 - val_accuracy: 0.5190 - val_top-5-accuracy: 0.7964\n",
            "Epoch 48/100\n",
            "176/176 [==============================] - 83s 472ms/step - loss: 1.2244 - accuracy: 0.6450 - top-5-accuracy: 0.9074 - val_loss: 1.8821 - val_accuracy: 0.5262 - val_top-5-accuracy: 0.8036\n",
            "Epoch 49/100\n",
            "176/176 [==============================] - 83s 470ms/step - loss: 1.2090 - accuracy: 0.6530 - top-5-accuracy: 0.9081 - val_loss: 1.8901 - val_accuracy: 0.5214 - val_top-5-accuracy: 0.8010\n",
            "Epoch 50/100\n",
            "176/176 [==============================] - 82s 467ms/step - loss: 1.1986 - accuracy: 0.6510 - top-5-accuracy: 0.9111 - val_loss: 1.9043 - val_accuracy: 0.5158 - val_top-5-accuracy: 0.7952\n",
            "Epoch 51/100\n",
            "176/176 [==============================] - 82s 468ms/step - loss: 1.1765 - accuracy: 0.6578 - top-5-accuracy: 0.9115 - val_loss: 1.8662 - val_accuracy: 0.5250 - val_top-5-accuracy: 0.8070\n",
            "Epoch 52/100\n",
            "176/176 [==============================] - 83s 471ms/step - loss: 1.1548 - accuracy: 0.6625 - top-5-accuracy: 0.9171 - val_loss: 1.8765 - val_accuracy: 0.5244 - val_top-5-accuracy: 0.8040\n",
            "Epoch 53/100\n",
            "176/176 [==============================] - 83s 472ms/step - loss: 1.1438 - accuracy: 0.6664 - top-5-accuracy: 0.9194 - val_loss: 1.9195 - val_accuracy: 0.5314 - val_top-5-accuracy: 0.8004\n",
            "Epoch 54/100\n",
            "176/176 [==============================] - 83s 471ms/step - loss: 1.1332 - accuracy: 0.6691 - top-5-accuracy: 0.9186 - val_loss: 1.8587 - val_accuracy: 0.5306 - val_top-5-accuracy: 0.8034\n",
            "Epoch 55/100\n",
            "176/176 [==============================] - 83s 469ms/step - loss: 1.1149 - accuracy: 0.6740 - top-5-accuracy: 0.9222 - val_loss: 1.8676 - val_accuracy: 0.5294 - val_top-5-accuracy: 0.8050\n",
            "Epoch 56/100\n",
            "176/176 [==============================] - 83s 472ms/step - loss: 1.1026 - accuracy: 0.6777 - top-5-accuracy: 0.9245 - val_loss: 1.8908 - val_accuracy: 0.5240 - val_top-5-accuracy: 0.8002\n",
            "Epoch 57/100\n",
            "132/176 [=====================>........] - ETA: 20s - loss: 1.0725 - accuracy: 0.6859 - top-5-accuracy: 0.9248"
          ]
        },
        {
          "output_type": "error",
          "ename": "KeyboardInterrupt",
          "evalue": "ignored",
          "traceback": [
            "\u001b[0;31m---------------------------------------------------------------------------\u001b[0m",
            "\u001b[0;31mKeyboardInterrupt\u001b[0m                         Traceback (most recent call last)",
            "\u001b[0;32m<ipython-input-11-fb5e220c4894>\u001b[0m in \u001b[0;36m<module>\u001b[0;34m\u001b[0m\n\u001b[1;32m     40\u001b[0m \u001b[0;34m\u001b[0m\u001b[0m\n\u001b[1;32m     41\u001b[0m \u001b[0mvit_classifier\u001b[0m \u001b[0;34m=\u001b[0m \u001b[0mcreate_vit_classifier\u001b[0m\u001b[0;34m(\u001b[0m\u001b[0;34m)\u001b[0m\u001b[0;34m\u001b[0m\u001b[0;34m\u001b[0m\u001b[0m\n\u001b[0;32m---> 42\u001b[0;31m \u001b[0mhistory\u001b[0m \u001b[0;34m=\u001b[0m \u001b[0mrun_experiment\u001b[0m\u001b[0;34m(\u001b[0m\u001b[0mvit_classifier\u001b[0m\u001b[0;34m)\u001b[0m\u001b[0;34m\u001b[0m\u001b[0;34m\u001b[0m\u001b[0m\n\u001b[0m",
            "\u001b[0;32m<ipython-input-11-fb5e220c4894>\u001b[0m in \u001b[0;36mrun_experiment\u001b[0;34m(model)\u001b[0m\n\u001b[1;32m     22\u001b[0m     )\n\u001b[1;32m     23\u001b[0m \u001b[0;34m\u001b[0m\u001b[0m\n\u001b[0;32m---> 24\u001b[0;31m     history = model.fit(\n\u001b[0m\u001b[1;32m     25\u001b[0m         \u001b[0mx\u001b[0m\u001b[0;34m=\u001b[0m\u001b[0mx_train\u001b[0m\u001b[0;34m,\u001b[0m\u001b[0;34m\u001b[0m\u001b[0;34m\u001b[0m\u001b[0m\n\u001b[1;32m     26\u001b[0m         \u001b[0my\u001b[0m\u001b[0;34m=\u001b[0m\u001b[0my_train\u001b[0m\u001b[0;34m,\u001b[0m\u001b[0;34m\u001b[0m\u001b[0;34m\u001b[0m\u001b[0m\n",
            "\u001b[0;32m/usr/local/lib/python3.8/dist-packages/keras/utils/traceback_utils.py\u001b[0m in \u001b[0;36merror_handler\u001b[0;34m(*args, **kwargs)\u001b[0m\n\u001b[1;32m     62\u001b[0m     \u001b[0mfiltered_tb\u001b[0m \u001b[0;34m=\u001b[0m \u001b[0;32mNone\u001b[0m\u001b[0;34m\u001b[0m\u001b[0;34m\u001b[0m\u001b[0m\n\u001b[1;32m     63\u001b[0m     \u001b[0;32mtry\u001b[0m\u001b[0;34m:\u001b[0m\u001b[0;34m\u001b[0m\u001b[0;34m\u001b[0m\u001b[0m\n\u001b[0;32m---> 64\u001b[0;31m       \u001b[0;32mreturn\u001b[0m \u001b[0mfn\u001b[0m\u001b[0;34m(\u001b[0m\u001b[0;34m*\u001b[0m\u001b[0margs\u001b[0m\u001b[0;34m,\u001b[0m \u001b[0;34m**\u001b[0m\u001b[0mkwargs\u001b[0m\u001b[0;34m)\u001b[0m\u001b[0;34m\u001b[0m\u001b[0;34m\u001b[0m\u001b[0m\n\u001b[0m\u001b[1;32m     65\u001b[0m     \u001b[0;32mexcept\u001b[0m \u001b[0mException\u001b[0m \u001b[0;32mas\u001b[0m \u001b[0me\u001b[0m\u001b[0;34m:\u001b[0m  \u001b[0;31m# pylint: disable=broad-except\u001b[0m\u001b[0;34m\u001b[0m\u001b[0;34m\u001b[0m\u001b[0m\n\u001b[1;32m     66\u001b[0m       \u001b[0mfiltered_tb\u001b[0m \u001b[0;34m=\u001b[0m \u001b[0m_process_traceback_frames\u001b[0m\u001b[0;34m(\u001b[0m\u001b[0me\u001b[0m\u001b[0;34m.\u001b[0m\u001b[0m__traceback__\u001b[0m\u001b[0;34m)\u001b[0m\u001b[0;34m\u001b[0m\u001b[0;34m\u001b[0m\u001b[0m\n",
            "\u001b[0;32m/usr/local/lib/python3.8/dist-packages/keras/engine/training.py\u001b[0m in \u001b[0;36mfit\u001b[0;34m(self, x, y, batch_size, epochs, verbose, callbacks, validation_split, validation_data, shuffle, class_weight, sample_weight, initial_epoch, steps_per_epoch, validation_steps, validation_batch_size, validation_freq, max_queue_size, workers, use_multiprocessing)\u001b[0m\n\u001b[1;32m   1407\u001b[0m                 _r=1):\n\u001b[1;32m   1408\u001b[0m               \u001b[0mcallbacks\u001b[0m\u001b[0;34m.\u001b[0m\u001b[0mon_train_batch_begin\u001b[0m\u001b[0;34m(\u001b[0m\u001b[0mstep\u001b[0m\u001b[0;34m)\u001b[0m\u001b[0;34m\u001b[0m\u001b[0;34m\u001b[0m\u001b[0m\n\u001b[0;32m-> 1409\u001b[0;31m               \u001b[0mtmp_logs\u001b[0m \u001b[0;34m=\u001b[0m \u001b[0mself\u001b[0m\u001b[0;34m.\u001b[0m\u001b[0mtrain_function\u001b[0m\u001b[0;34m(\u001b[0m\u001b[0miterator\u001b[0m\u001b[0;34m)\u001b[0m\u001b[0;34m\u001b[0m\u001b[0;34m\u001b[0m\u001b[0m\n\u001b[0m\u001b[1;32m   1410\u001b[0m               \u001b[0;32mif\u001b[0m \u001b[0mdata_handler\u001b[0m\u001b[0;34m.\u001b[0m\u001b[0mshould_sync\u001b[0m\u001b[0;34m:\u001b[0m\u001b[0;34m\u001b[0m\u001b[0;34m\u001b[0m\u001b[0m\n\u001b[1;32m   1411\u001b[0m                 \u001b[0mcontext\u001b[0m\u001b[0;34m.\u001b[0m\u001b[0masync_wait\u001b[0m\u001b[0;34m(\u001b[0m\u001b[0;34m)\u001b[0m\u001b[0;34m\u001b[0m\u001b[0;34m\u001b[0m\u001b[0m\n",
            "\u001b[0;32m/usr/local/lib/python3.8/dist-packages/tensorflow/python/util/traceback_utils.py\u001b[0m in \u001b[0;36merror_handler\u001b[0;34m(*args, **kwargs)\u001b[0m\n\u001b[1;32m    148\u001b[0m     \u001b[0mfiltered_tb\u001b[0m \u001b[0;34m=\u001b[0m \u001b[0;32mNone\u001b[0m\u001b[0;34m\u001b[0m\u001b[0;34m\u001b[0m\u001b[0m\n\u001b[1;32m    149\u001b[0m     \u001b[0;32mtry\u001b[0m\u001b[0;34m:\u001b[0m\u001b[0;34m\u001b[0m\u001b[0;34m\u001b[0m\u001b[0m\n\u001b[0;32m--> 150\u001b[0;31m       \u001b[0;32mreturn\u001b[0m \u001b[0mfn\u001b[0m\u001b[0;34m(\u001b[0m\u001b[0;34m*\u001b[0m\u001b[0margs\u001b[0m\u001b[0;34m,\u001b[0m \u001b[0;34m**\u001b[0m\u001b[0mkwargs\u001b[0m\u001b[0;34m)\u001b[0m\u001b[0;34m\u001b[0m\u001b[0;34m\u001b[0m\u001b[0m\n\u001b[0m\u001b[1;32m    151\u001b[0m     \u001b[0;32mexcept\u001b[0m \u001b[0mException\u001b[0m \u001b[0;32mas\u001b[0m \u001b[0me\u001b[0m\u001b[0;34m:\u001b[0m\u001b[0;34m\u001b[0m\u001b[0;34m\u001b[0m\u001b[0m\n\u001b[1;32m    152\u001b[0m       \u001b[0mfiltered_tb\u001b[0m \u001b[0;34m=\u001b[0m \u001b[0m_process_traceback_frames\u001b[0m\u001b[0;34m(\u001b[0m\u001b[0me\u001b[0m\u001b[0;34m.\u001b[0m\u001b[0m__traceback__\u001b[0m\u001b[0;34m)\u001b[0m\u001b[0;34m\u001b[0m\u001b[0;34m\u001b[0m\u001b[0m\n",
            "\u001b[0;32m/usr/local/lib/python3.8/dist-packages/tensorflow/python/eager/def_function.py\u001b[0m in \u001b[0;36m__call__\u001b[0;34m(self, *args, **kwds)\u001b[0m\n\u001b[1;32m    913\u001b[0m \u001b[0;34m\u001b[0m\u001b[0m\n\u001b[1;32m    914\u001b[0m       \u001b[0;32mwith\u001b[0m \u001b[0mOptionalXlaContext\u001b[0m\u001b[0;34m(\u001b[0m\u001b[0mself\u001b[0m\u001b[0;34m.\u001b[0m\u001b[0m_jit_compile\u001b[0m\u001b[0;34m)\u001b[0m\u001b[0;34m:\u001b[0m\u001b[0;34m\u001b[0m\u001b[0;34m\u001b[0m\u001b[0m\n\u001b[0;32m--> 915\u001b[0;31m         \u001b[0mresult\u001b[0m \u001b[0;34m=\u001b[0m \u001b[0mself\u001b[0m\u001b[0;34m.\u001b[0m\u001b[0m_call\u001b[0m\u001b[0;34m(\u001b[0m\u001b[0;34m*\u001b[0m\u001b[0margs\u001b[0m\u001b[0;34m,\u001b[0m \u001b[0;34m**\u001b[0m\u001b[0mkwds\u001b[0m\u001b[0;34m)\u001b[0m\u001b[0;34m\u001b[0m\u001b[0;34m\u001b[0m\u001b[0m\n\u001b[0m\u001b[1;32m    916\u001b[0m \u001b[0;34m\u001b[0m\u001b[0m\n\u001b[1;32m    917\u001b[0m       \u001b[0mnew_tracing_count\u001b[0m \u001b[0;34m=\u001b[0m \u001b[0mself\u001b[0m\u001b[0;34m.\u001b[0m\u001b[0mexperimental_get_tracing_count\u001b[0m\u001b[0;34m(\u001b[0m\u001b[0;34m)\u001b[0m\u001b[0;34m\u001b[0m\u001b[0;34m\u001b[0m\u001b[0m\n",
            "\u001b[0;32m/usr/local/lib/python3.8/dist-packages/tensorflow/python/eager/def_function.py\u001b[0m in \u001b[0;36m_call\u001b[0;34m(self, *args, **kwds)\u001b[0m\n\u001b[1;32m    945\u001b[0m       \u001b[0;31m# In this case we have created variables on the first call, so we run the\u001b[0m\u001b[0;34m\u001b[0m\u001b[0;34m\u001b[0m\u001b[0;34m\u001b[0m\u001b[0m\n\u001b[1;32m    946\u001b[0m       \u001b[0;31m# defunned version which is guaranteed to never create variables.\u001b[0m\u001b[0;34m\u001b[0m\u001b[0;34m\u001b[0m\u001b[0;34m\u001b[0m\u001b[0m\n\u001b[0;32m--> 947\u001b[0;31m       \u001b[0;32mreturn\u001b[0m \u001b[0mself\u001b[0m\u001b[0;34m.\u001b[0m\u001b[0m_stateless_fn\u001b[0m\u001b[0;34m(\u001b[0m\u001b[0;34m*\u001b[0m\u001b[0margs\u001b[0m\u001b[0;34m,\u001b[0m \u001b[0;34m**\u001b[0m\u001b[0mkwds\u001b[0m\u001b[0;34m)\u001b[0m  \u001b[0;31m# pylint: disable=not-callable\u001b[0m\u001b[0;34m\u001b[0m\u001b[0;34m\u001b[0m\u001b[0m\n\u001b[0m\u001b[1;32m    948\u001b[0m     \u001b[0;32melif\u001b[0m \u001b[0mself\u001b[0m\u001b[0;34m.\u001b[0m\u001b[0m_stateful_fn\u001b[0m \u001b[0;32mis\u001b[0m \u001b[0;32mnot\u001b[0m \u001b[0;32mNone\u001b[0m\u001b[0;34m:\u001b[0m\u001b[0;34m\u001b[0m\u001b[0;34m\u001b[0m\u001b[0m\n\u001b[1;32m    949\u001b[0m       \u001b[0;31m# Release the lock early so that multiple threads can perform the call\u001b[0m\u001b[0;34m\u001b[0m\u001b[0;34m\u001b[0m\u001b[0;34m\u001b[0m\u001b[0m\n",
            "\u001b[0;32m/usr/local/lib/python3.8/dist-packages/tensorflow/python/eager/function.py\u001b[0m in \u001b[0;36m__call__\u001b[0;34m(self, *args, **kwargs)\u001b[0m\n\u001b[1;32m   2451\u001b[0m       (graph_function,\n\u001b[1;32m   2452\u001b[0m        filtered_flat_args) = self._maybe_define_function(args, kwargs)\n\u001b[0;32m-> 2453\u001b[0;31m     return graph_function._call_flat(\n\u001b[0m\u001b[1;32m   2454\u001b[0m         filtered_flat_args, captured_inputs=graph_function.captured_inputs)  # pylint: disable=protected-access\n\u001b[1;32m   2455\u001b[0m \u001b[0;34m\u001b[0m\u001b[0m\n",
            "\u001b[0;32m/usr/local/lib/python3.8/dist-packages/tensorflow/python/eager/function.py\u001b[0m in \u001b[0;36m_call_flat\u001b[0;34m(self, args, captured_inputs, cancellation_manager)\u001b[0m\n\u001b[1;32m   1858\u001b[0m         and executing_eagerly):\n\u001b[1;32m   1859\u001b[0m       \u001b[0;31m# No tape is watching; skip to running the function.\u001b[0m\u001b[0;34m\u001b[0m\u001b[0;34m\u001b[0m\u001b[0;34m\u001b[0m\u001b[0m\n\u001b[0;32m-> 1860\u001b[0;31m       return self._build_call_outputs(self._inference_function.call(\n\u001b[0m\u001b[1;32m   1861\u001b[0m           ctx, args, cancellation_manager=cancellation_manager))\n\u001b[1;32m   1862\u001b[0m     forward_backward = self._select_forward_and_backward_functions(\n",
            "\u001b[0;32m/usr/local/lib/python3.8/dist-packages/tensorflow/python/eager/function.py\u001b[0m in \u001b[0;36mcall\u001b[0;34m(self, ctx, args, cancellation_manager)\u001b[0m\n\u001b[1;32m    495\u001b[0m       \u001b[0;32mwith\u001b[0m \u001b[0m_InterpolateFunctionError\u001b[0m\u001b[0;34m(\u001b[0m\u001b[0mself\u001b[0m\u001b[0;34m)\u001b[0m\u001b[0;34m:\u001b[0m\u001b[0;34m\u001b[0m\u001b[0;34m\u001b[0m\u001b[0m\n\u001b[1;32m    496\u001b[0m         \u001b[0;32mif\u001b[0m \u001b[0mcancellation_manager\u001b[0m \u001b[0;32mis\u001b[0m \u001b[0;32mNone\u001b[0m\u001b[0;34m:\u001b[0m\u001b[0;34m\u001b[0m\u001b[0;34m\u001b[0m\u001b[0m\n\u001b[0;32m--> 497\u001b[0;31m           outputs = execute.execute(\n\u001b[0m\u001b[1;32m    498\u001b[0m               \u001b[0mstr\u001b[0m\u001b[0;34m(\u001b[0m\u001b[0mself\u001b[0m\u001b[0;34m.\u001b[0m\u001b[0msignature\u001b[0m\u001b[0;34m.\u001b[0m\u001b[0mname\u001b[0m\u001b[0;34m)\u001b[0m\u001b[0;34m,\u001b[0m\u001b[0;34m\u001b[0m\u001b[0;34m\u001b[0m\u001b[0m\n\u001b[1;32m    499\u001b[0m               \u001b[0mnum_outputs\u001b[0m\u001b[0;34m=\u001b[0m\u001b[0mself\u001b[0m\u001b[0;34m.\u001b[0m\u001b[0m_num_outputs\u001b[0m\u001b[0;34m,\u001b[0m\u001b[0;34m\u001b[0m\u001b[0;34m\u001b[0m\u001b[0m\n",
            "\u001b[0;32m/usr/local/lib/python3.8/dist-packages/tensorflow/python/eager/execute.py\u001b[0m in \u001b[0;36mquick_execute\u001b[0;34m(op_name, num_outputs, inputs, attrs, ctx, name)\u001b[0m\n\u001b[1;32m     52\u001b[0m   \u001b[0;32mtry\u001b[0m\u001b[0;34m:\u001b[0m\u001b[0;34m\u001b[0m\u001b[0;34m\u001b[0m\u001b[0m\n\u001b[1;32m     53\u001b[0m     \u001b[0mctx\u001b[0m\u001b[0;34m.\u001b[0m\u001b[0mensure_initialized\u001b[0m\u001b[0;34m(\u001b[0m\u001b[0;34m)\u001b[0m\u001b[0;34m\u001b[0m\u001b[0;34m\u001b[0m\u001b[0m\n\u001b[0;32m---> 54\u001b[0;31m     tensors = pywrap_tfe.TFE_Py_Execute(ctx._handle, device_name, op_name,\n\u001b[0m\u001b[1;32m     55\u001b[0m                                         inputs, attrs, num_outputs)\n\u001b[1;32m     56\u001b[0m   \u001b[0;32mexcept\u001b[0m \u001b[0mcore\u001b[0m\u001b[0;34m.\u001b[0m\u001b[0m_NotOkStatusException\u001b[0m \u001b[0;32mas\u001b[0m \u001b[0me\u001b[0m\u001b[0;34m:\u001b[0m\u001b[0;34m\u001b[0m\u001b[0;34m\u001b[0m\u001b[0m\n",
            "\u001b[0;31mKeyboardInterrupt\u001b[0m: "
          ]
        }
      ]
    }
  ]
}